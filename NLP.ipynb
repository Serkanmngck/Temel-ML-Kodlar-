{
 "cells": [
  {
   "cell_type": "code",
   "execution_count": 1,
   "metadata": {},
   "outputs": [],
   "source": [
    "import pandas as pd\n",
    "import numpy as np\n",
    "from sklearn.feature_extraction.text import CountVectorizer\n",
    "from sklearn.ensemble import RandomForestClassifier\n",
    "from sklearn.model_selection import train_test_split"
   ]
  },
  {
   "cell_type": "code",
   "execution_count": 2,
   "metadata": {},
   "outputs": [],
   "source": [
    "df=pd.DataFrame()\n",
    "df['cumleler']=[\"ali bak\",\"ali ata bak\",\"bak ali bak\",\"ali güzel ata bak\"]"
   ]
  },
  {
   "cell_type": "code",
   "execution_count": 3,
   "metadata": {},
   "outputs": [
    {
     "data": {
      "text/plain": [
       "array([[1, 0, 1, 0],\n",
       "       [1, 1, 1, 0],\n",
       "       [1, 0, 2, 0],\n",
       "       [1, 1, 1, 1]])"
      ]
     },
     "execution_count": 3,
     "metadata": {},
     "output_type": "execute_result"
    }
   ],
   "source": [
    "cv=CountVectorizer()\n",
    "a=cv.fit_transform(df['cumleler'])\n",
    "a.toarray()"
   ]
  },
  {
   "cell_type": "code",
   "execution_count": 4,
   "metadata": {},
   "outputs": [
    {
     "data": {
      "text/html": [
       "<div>\n",
       "<style scoped>\n",
       "    .dataframe tbody tr th:only-of-type {\n",
       "        vertical-align: middle;\n",
       "    }\n",
       "\n",
       "    .dataframe tbody tr th {\n",
       "        vertical-align: top;\n",
       "    }\n",
       "\n",
       "    .dataframe thead th {\n",
       "        text-align: right;\n",
       "    }\n",
       "</style>\n",
       "<table border=\"1\" class=\"dataframe\">\n",
       "  <thead>\n",
       "    <tr style=\"text-align: right;\">\n",
       "      <th></th>\n",
       "      <th>Unnamed: 0</th>\n",
       "      <th>sorgu</th>\n",
       "      <th>label</th>\n",
       "      <th>le</th>\n",
       "    </tr>\n",
       "  </thead>\n",
       "  <tbody>\n",
       "    <tr>\n",
       "      <th>0</th>\n",
       "      <td>0</td>\n",
       "      <td>kredi kartımı kaybettim</td>\n",
       "      <td>kartkayip</td>\n",
       "      <td>1</td>\n",
       "    </tr>\n",
       "    <tr>\n",
       "      <th>1</th>\n",
       "      <td>1</td>\n",
       "      <td>banka kartımı kaybettim</td>\n",
       "      <td>kartkayip</td>\n",
       "      <td>1</td>\n",
       "    </tr>\n",
       "    <tr>\n",
       "      <th>2</th>\n",
       "      <td>2</td>\n",
       "      <td>kredi kartımı bulamıyorum</td>\n",
       "      <td>kartkayip</td>\n",
       "      <td>1</td>\n",
       "    </tr>\n",
       "  </tbody>\n",
       "</table>\n",
       "</div>"
      ],
      "text/plain": [
       "   Unnamed: 0                      sorgu      label  le\n",
       "0           0    kredi kartımı kaybettim  kartkayip   1\n",
       "1           1    banka kartımı kaybettim  kartkayip   1\n",
       "2           2  kredi kartımı bulamıyorum  kartkayip   1"
      ]
     },
     "execution_count": 4,
     "metadata": {},
     "output_type": "execute_result"
    }
   ],
   "source": [
    "df=pd.read_csv(\"banka.csv\")\n",
    "df.head(3)"
   ]
  },
  {
   "cell_type": "code",
   "execution_count": 5,
   "metadata": {},
   "outputs": [
    {
     "data": {
      "text/html": [
       "<div>\n",
       "<style scoped>\n",
       "    .dataframe tbody tr th:only-of-type {\n",
       "        vertical-align: middle;\n",
       "    }\n",
       "\n",
       "    .dataframe tbody tr th {\n",
       "        vertical-align: top;\n",
       "    }\n",
       "\n",
       "    .dataframe thead th {\n",
       "        text-align: right;\n",
       "    }\n",
       "</style>\n",
       "<table border=\"1\" class=\"dataframe\">\n",
       "  <thead>\n",
       "    <tr style=\"text-align: right;\">\n",
       "      <th></th>\n",
       "      <th>sorgu</th>\n",
       "      <th>label</th>\n",
       "    </tr>\n",
       "  </thead>\n",
       "  <tbody>\n",
       "    <tr>\n",
       "      <th>0</th>\n",
       "      <td>kredi kartımı kaybettim</td>\n",
       "      <td>kartkayip</td>\n",
       "    </tr>\n",
       "    <tr>\n",
       "      <th>1</th>\n",
       "      <td>banka kartımı kaybettim</td>\n",
       "      <td>kartkayip</td>\n",
       "    </tr>\n",
       "    <tr>\n",
       "      <th>2</th>\n",
       "      <td>kredi kartımı bulamıyorum</td>\n",
       "      <td>kartkayip</td>\n",
       "    </tr>\n",
       "  </tbody>\n",
       "</table>\n",
       "</div>"
      ],
      "text/plain": [
       "                       sorgu      label\n",
       "0    kredi kartımı kaybettim  kartkayip\n",
       "1    banka kartımı kaybettim  kartkayip\n",
       "2  kredi kartımı bulamıyorum  kartkayip"
      ]
     },
     "execution_count": 5,
     "metadata": {},
     "output_type": "execute_result"
    }
   ],
   "source": [
    "df=df[['sorgu','label']]\n",
    "df.head(3)"
   ]
  },
  {
   "cell_type": "code",
   "execution_count": null,
   "metadata": {},
   "outputs": [],
   "source": [
    "import pandas as pd\n",
    "from sklearn.ensemble import RandomForestClassifier\n",
    "from sklearn.feature_extraction.text import CountVectorizer\n",
    "from sklearn.model_selection import train_test_split\n",
    "\n",
    "# Stopwords listesi\n",
    "stopwords = ['fakat','lakin','ancak','acaba', 'ama', 'aslında', 'az', 'bazı', 'belki', 'biri', 'birkaç', 'birşey', 'biz', 'bu', \n",
    "             'çok', 'çünkü', 'da', 'daha', 'de', 'defa', 'diye', 'eğer', 'en', 'gibi', 'hem', 'hep', 'hepsi', 'her', 'hiç', \n",
    "             'için', 'ile', 'ise', 'kez', 'ki', 'kim', 'mı', 'mu', 'mü', 'nasıl', 'ne', 'neden', 'nerde', 'nerede', 'nereye', \n",
    "             'niçin', 'niye', 'o', 'sanki', 'şey', 'siz', 'şu', 'tüm', 've', 'veya', 'ya', 'yani']\n",
    "\n",
    "mesaj = [input(\"yapmak istedğiniz işlemi giriniz\")]\n",
    "\n",
    "mesajdf = pd.DataFrame({'sorgu': mesaj, \"label\": 0}, index=[42])\n",
    "df = pd.concat((df, mesajdf), ignore_index=True)\n",
    "\n",
    "for word in stopwords:\n",
    "    df[\"sorgu\"] = df[\"sorgu\"].str.replace(f\" {word} \", \" \", regex=False)\n",
    "\n",
    "cv = CountVectorizer(max_features=50)\n",
    "\n",
    "tahmin = cv.transform([df['sorgu'].iloc[-1]]).toarray()\n",
    "\n",
    "x = cv.fit_transform(df['sorgu']).toarray()[0:-1]\n",
    "y = df['label'][0:-1]\n",
    "\n",
    "x_train, x_test, y_train, y_test = train_test_split(x, y, random_state=21, train_size=0.7)\n",
    "\n",
    "rf = RandomForestClassifier()\n",
    "model = rf.fit(x_train, y_train)\n",
    "\n",
    "score = model.score(x_test, y_test)\n",
    "\n",
    "sonuc = model.predict(tahmin)\n",
    "\n",
    "print(\"Sonuc:\", sonuc, \"Skor:\", score)\n",
    "import pandas as pd\n",
    "from sklearn.ensemble import RandomForestClassifier\n",
    "from sklearn.feature_extraction.text import CountVectorizer\n",
    "from sklearn.model_selection import train_test_split\n",
    "\n",
    "# Stopwords listesi\n",
    "stopwords = ['fakat','lakin','ancak','acaba', 'ama', 'aslında', 'az', 'bazı', 'belki', 'biri', 'birkaç', 'birşey', 'biz', 'bu', \n",
    "             'çok', 'çünkü', 'da', 'daha', 'de', 'defa', 'diye', 'eğer', 'en', 'gibi', 'hem', 'hep', 'hepsi', 'her', 'hiç', \n",
    "             'için', 'ile', 'ise', 'kez', 'ki', 'kim', 'mı', 'mu', 'mü', 'nasıl', 'ne', 'neden', 'nerde', 'nerede', 'nereye', \n",
    "             'niçin', 'niye', 'o', 'sanki', 'şey', 'siz', 'şu', 'tüm', 've', 'veya', 'ya', 'yani']\n",
    "\n",
    "# Mesaj girişi\n",
    "mesaj = [input(\"yapmak istedğiniz işlemi giriniz\")]\n",
    "\n",
    "# Veri çerçevesini güncelle\n",
    "mesajdf = pd.DataFrame({'sorgu': mesaj, \"label\": 0}, index=[42])\n",
    "df = pd.concat((df, mesajdf), ignore_index=True)\n",
    "\n",
    "# Stopwords (gereksiz kelimeler) çıkarma\n",
    "for word in stopwords:\n",
    "    df[\"sorgu\"] = df[\"sorgu\"].str.replace(f\" {word} \", \" \", regex=False)\n",
    "\n",
    "cv = CountVectorizer(max_features=50)\n",
    "\n",
    "tahmin = cv.transform([df['sorgu'].iloc[-1]]).toarray()\n",
    "\n",
    "x = cv.fit_transform(df['sorgu']).toarray()[0:-1]\n",
    "y = df['label'][0:-1]\n",
    "\n",
    "x_train, x_test, y_train, y_test = train_test_split(x, y, random_state=21, train_size=0.7)\n",
    "\n",
    "rf = RandomForestClassifier()\n",
    "model = rf.fit(x_train, y_train)\n",
    "\n",
    "score = model.score(x_test, y_test)\n",
    "\n",
    "sonuc = model.predict(tahmin)\n",
    "\n",
    "print(\"Sonuc:\", sonuc, \"Skor:\", score)\n"
   ]
  },
  {
   "cell_type": "code",
   "execution_count": 31,
   "metadata": {},
   "outputs": [
    {
     "data": {
      "text/plain": [
       "array([[0, 0, 0, ..., 0, 0, 0],\n",
       "       [0, 0, 1, ..., 0, 0, 0],\n",
       "       [0, 0, 0, ..., 0, 0, 0],\n",
       "       ...,\n",
       "       [0, 0, 0, ..., 0, 0, 0],\n",
       "       [0, 0, 0, ..., 0, 0, 0],\n",
       "       [0, 0, 0, ..., 0, 0, 0]])"
      ]
     },
     "execution_count": 31,
     "metadata": {},
     "output_type": "execute_result"
    }
   ],
   "source": [
    "x"
   ]
  }
 ],
 "metadata": {
  "kernelspec": {
   "display_name": "Python 3",
   "language": "python",
   "name": "python3"
  },
  "language_info": {
   "codemirror_mode": {
    "name": "ipython",
    "version": 3
   },
   "file_extension": ".py",
   "mimetype": "text/x-python",
   "name": "python",
   "nbconvert_exporter": "python",
   "pygments_lexer": "ipython3",
   "version": "3.12.7"
  }
 },
 "nbformat": 4,
 "nbformat_minor": 2
}
